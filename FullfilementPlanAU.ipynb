{
 "cells": [
  {
   "cell_type": "markdown",
   "metadata": {},
   "source": [
    "### Simulation code ###\n",
    "Date: June 04, 2025\n",
    "\n",
    "Author: Ruben A. Proano\n",
    "\n",
    "To use the code, please request permission by emailing rpmeie@rit.edu\n",
    "\n",
    "This code is used to support a simulation study to analyze the impact of African vaccine manufacturing on the GAVI vaccine market.\n",
    "\n",
    "This code is an implementation of the simulation discussed in the associated paper. \n",
    "\n",
    "This code is licensed under a **Creative Commons Attribution 4.0 International License** https://creativecommons.org/licenses/by/4.0/\n",
    "\n",
    "Attribution the data and code should include:\n",
    "\n",
    "    Ruben A. Proano, Rochester Institute of Technology, rpmeie@rit.edu\n",
    "    Copyright notice (© 2025 R.Proano)\n",
    "    Add a link to the original work (paper link)\n",
    "\n",
    "\n",
    "### Content:###\n",
    "\n",
    "- 1: General notation (Assumptions and Factors)\n",
    "- 2: Function Definitions\n",
    "- 3: Experimental design - notation description\n",
    "- 4: Main Simulation Function\n",
    "- 5: Input data upload\n",
    "- 6: Simulation execution \n",
    "- 7: Output collection"
   ]
  },
  {
   "cell_type": "markdown",
   "metadata": {},
   "source": [
    "## 1. General notation\n",
    "\n",
    "### Assumptions\n",
    "\n",
    "- Market 1== domestic market == gavi market \\ AU\n",
    "- Market 2== overseas market == AU market\n",
    "- If AU produces a vaccine to satisfy overseas market, its production capacity is bounded by the AU's antigen demand\n",
    "- Model based for 1 vaccine at the time\n",
    "- DG = current GAVI market demand\n",
    "- D1 = demand of non-AU GAVI countries. D1~N(u(D1), v(D1)) around the current demand levels of non-AU Gavi countries\n",
    "- D2 = demand of AU countries. D2~N(u(D2), v(D2)) around the current demand levels for AU countries supported by non-AU manufacturers\n",
    "- KG = current domestic capacity prior AU market\n",
    "- K1 = domestic (non-AU) production capacity \n",
    "- K2 = overseas (AU) capacity\n",
    "- KG = K1 + K2\n",
    "\n",
    "- v1 = profit per dose of vaccine made in domestic market and sold in domestic market (non-AU GAVI countries)\n",
    "- v2 = profit per dose of vaccines made in overseas market and sold in overseas market (AU Gavi countries)\n",
    "- v3 = profit per dose of vaccines made in domestic market but sold overseas (made in non-AU Gavi countries and sold in AU Gavi countries)\n",
    "- vi = pi- mi, where pi is selling price, mi production cost, which includes variable and fixed cost/unit (i=1,2,3)\n",
    "\n",
    "### Factors\n",
    "- Capacities (K1, K2). Key factor K2, given that K1 = KG - K2, and KG assumed constant\n",
    "- Profit per unit vector (vD, vO, vT)\n",
    "- let profit 0 <= vi <= (1+b)p, where p is the current UNICEF price per dose\n",
    "- then vi~ U[0.1p, (1+b)p], b= 0, 0.1, 0.2, 0.3, 0.4, 0.5, 0.6, 0.7, 0.8, 0.9, 1.0\n"
   ]
  },
  {
   "cell_type": "markdown",
   "metadata": {},
   "source": [
    "## 2. Function definitions"
   ]
  },
  {
   "cell_type": "code",
   "execution_count": 1,
   "metadata": {},
   "outputs": [],
   "source": [
    "def ProductionPlan(profit:tuple, capacity:tuple, demand:tuple)-> tuple:\n",
    "    scenario=PricingScenario(profit)\n",
    "    plan = Plan(scenario, capacity, demand)\n",
    "    return plan"
   ]
  },
  {
   "cell_type": "code",
   "execution_count": 2,
   "metadata": {},
   "outputs": [],
   "source": [
    "import numpy as np"
   ]
  },
  {
   "cell_type": "code",
   "execution_count": 3,
   "metadata": {},
   "outputs": [],
   "source": [
    "def ProfitFromPlan(plan:tuple, profit:tuple)->float:\n",
    "    TotProfit= np.array(plan)*np.array(profit)\n",
    "    return TotProfit"
   ]
  },
  {
   "cell_type": "code",
   "execution_count": 4,
   "metadata": {},
   "outputs": [],
   "source": [
    "def PricingScenario(pft: tuple)-> int:\n",
    "#\n",
    "#Receives a tuple of three profits per dose (0: domestic, 1: overseas market, 2: transhipment)\n",
    "#- checks if the tuple has three elements, \n",
    "#- checks if any tuple entries are equal\n",
    "#- determines pricing scenario among markets\n",
    "\n",
    "    try:\n",
    "        if Checktuple(pft) ==0:\n",
    "            raise ValueError(\"Either the input tuple has wrong number of entries, or has at least one equal entry\")\n",
    "        else:\n",
    "            if pft[0]>pft[1]>pft[2] :\n",
    "                return 1 #DO(4)\n",
    "            elif pft[0]>pft[2]>pft[1]:\n",
    "                return 2 #DT (3)\n",
    "            elif pft[1]>pft[0]>pft[2]:\n",
    "                return 3 #OD (2)\n",
    "            elif pft[1]>pft[2]>pft[0]:\n",
    "                return 4 #OT (1)\n",
    "            elif (pft[2]>max(pft[0],pft[1]) and pft[2]< (pft[0]+pft[1])):\n",
    "                return 5 #TM (5)\n",
    "            else:\n",
    "                return 6 #TE (6)\n",
    "    except ValueError as error:\n",
    "        return str(error)\n",
    "    "
   ]
  },
  {
   "cell_type": "code",
   "execution_count": 5,
   "metadata": {},
   "outputs": [],
   "source": [
    "def Checktuple(pft: tuple) ->int:\n",
    "    if len(pft) != 3:\n",
    "        return 0\n",
    "    \n",
    "    if pft[0]==pft[1] or pft[0]==pft[2] or pft[1]==pft[2]:\n",
    "        return 0\n",
    "    else:\n",
    "        return 1\n",
    "    "
   ]
  },
  {
   "cell_type": "code",
   "execution_count": 6,
   "metadata": {},
   "outputs": [],
   "source": [
    "def Plan(scenario:int, capacity:tuple, demand:tuple)->tuple:\n",
    "    if scenario==1:\n",
    "        #print(\"scenario 1, DO\")\n",
    "        return DO(capacity, demand)\n",
    "    elif scenario==2:\n",
    "        #print(\"scenario 2, DT\")\n",
    "        return DT(capacity,demand)\n",
    "    elif scenario==3:\n",
    "        #print(\"scenario 3, OD\")\n",
    "        return OD(capacity, demand)\n",
    "    elif scenario==4:\n",
    "        #print(\"scenario 4, OT\")\n",
    "        return OT(capacity, demand)\n",
    "    elif scenario==5:\n",
    "        #print (\"scenario 5, TM\")\n",
    "        return TM(capacity, demand)\n",
    "    else:\n",
    "        #print (\"scenario 6, TE\")\n",
    "        return TE(capacity, demand)\n",
    "        "
   ]
  },
  {
   "cell_type": "code",
   "execution_count": 7,
   "metadata": {},
   "outputs": [],
   "source": [
    "def DO(capacity:tuple, demand:tuple)-> tuple:\n",
    "    if (demand[0]<=capacity[0] and demand[1]<=capacity[1]):\n",
    "      # print('area 0')\n",
    "        return (1, 'a_0', demand[0], demand[1], 0)\n",
    "    elif (demand[0]<=capacity[0] and demand[1]>capacity[1] and (demand[0]+demand[1]<=capacity[0]+capacity[1])):\n",
    "      # print('area 1')\n",
    "        return (1, 'a_1', demand[0], capacity[1], demand[1]-capacity[1])\n",
    "    elif (demand[0]<=capacity[0] and demand[1]>capacity[1] and (demand[0]+demand[1]>capacity[0]+capacity[1])):\n",
    "      # print('area 2')\n",
    "        return (1, 'a_2', demand[0], capacity[1], capacity[0]-demand[0])\n",
    "    elif (demand[0]>capacity[0] and demand[1]>capacity[1]):\n",
    "      # print('area 3')\n",
    "        return (1, 'a_3', capacity[0], capacity[1], 0)\n",
    "    else:\n",
    "      # print('area 4')\n",
    "        return (1, 'a_4',capacity[0], demand[1],0)"
   ]
  },
  {
   "cell_type": "code",
   "execution_count": 8,
   "metadata": {},
   "outputs": [],
   "source": [
    "def DT(capacity:tuple, demand:tuple)->tuple:\n",
    "    if(demand[0]<=capacity[0] and (demand[0]+demand[1]<=capacity[0])):\n",
    "        #print('area 0')\n",
    "        return(2,'a_0', demand[0], 0, demand[1])\n",
    "    elif (demand[0]<=capacity[0] and (capacity[0]<demand[0]+demand[1]<=capacity[0]+capacity[1])):\n",
    "        #print('area 1')\n",
    "        return (2,'a_1', demand[0], demand[0]+demand[1]-capacity[0], capacity[0]-demand[0])\n",
    "    elif (demand[0]<=capacity[0] and (demand[0]+demand[1]> capacity[0]+capacity[1])):\n",
    "        #print('area 2')\n",
    "        return (2, 'a_2', demand[0], capacity[1], capacity[0]-demand[0])\n",
    "    elif (demand[0]>capacity[0] and demand[1]>capacity[1]):\n",
    "        #print('area 3')\n",
    "        return (2, 'a_3', capacity[0], capacity[1], 0)\n",
    "    else:\n",
    "        #print('area 4')\n",
    "        return(2, 'a_4', capacity[0], demand[1], 0)"
   ]
  },
  {
   "cell_type": "code",
   "execution_count": 9,
   "metadata": {},
   "outputs": [],
   "source": [
    "def OD(capacity:tuple, demand:tuple)-> tuple:\n",
    "    if(demand[0]<=capacity[0] and demand[1]<=capacity[1]):\n",
    "        #print('area 0')\n",
    "        return(3, 'a_0', demand[0], demand[1], 0)\n",
    "    elif (demand[0]<=capacity[0] and demand[1]> capacity[1] and (demand[0] + demand[1]<= capacity[0]+capacity[1])):\n",
    "        #print('area 1')\n",
    "        return (3, 'a_1', demand[0], capacity[1], demand[1]-capacity[1])\n",
    "    elif (demand[0]<=capacity[0] and (demand[0] + demand[1]> capacity[0]+capacity[1])):\n",
    "        #print('area 2')\n",
    "        return (3, 'a_2', demand[0], capacity[1], capacity[0]-demand[0])\n",
    "    elif (demand[0]>capacity[0] and demand[1]>capacity[1]):\n",
    "        #print('area 3')\n",
    "        return (3, 'a_3', capacity[0], capacity[1], 0)\n",
    "    else:\n",
    "        #print('area 4')\n",
    "        return (3, 'a_4', capacity[0], demand[1], 0)\n",
    "    "
   ]
  },
  {
   "cell_type": "code",
   "execution_count": 10,
   "metadata": {},
   "outputs": [],
   "source": [
    "def OT(capacity:tuple, demand:tuple)->tuple:\n",
    "    if(demand[0]<=capacity[0] and demand[1]<=capacity[1]):\n",
    "        #print('area 0')\n",
    "        return(4,'a_0', demand[0], demand[1], 0)\n",
    "    elif (demand[0]<=capacity[0] and demand[1]> capacity[1] and (demand[0] + demand[1]<= capacity[0]+capacity[1])):\n",
    "        #print('area 1')\n",
    "        return (4,'a_1', demand[0], capacity[1], demand[1]-capacity[1])\n",
    "    elif (capacity[1]<demand[1]<=capacity[0]+capacity[1] and (demand[0]+demand[1]>capacity[0]+capacity[1])):\n",
    "        #print('area 2')\n",
    "        return (4,'a_2',capacity[0]+capacity[1]-demand[1], capacity[1], demand[1]-capacity[1])\n",
    "    elif (demand[1]> capacity[0]+capacity[1]):\n",
    "        #print('area 3')\n",
    "        return (4, 'a_3', 0, capacity[1], capacity[0])\n",
    "    else:\n",
    "        #print('area 4')\n",
    "        return(4, 'a_4',capacity[0], demand[1], 0)"
   ]
  },
  {
   "cell_type": "code",
   "execution_count": 11,
   "metadata": {},
   "outputs": [],
   "source": [
    "def TM(capacity:tuple, demand:tuple)->tuple:\n",
    "    if(demand[0]<=capacity[0] and (demand[0]+demand[1]<=capacity[0])):\n",
    "        #print('area 0')\n",
    "        return (5, 'a_0',demand[0], 0, demand[1])\n",
    "    elif (demand[0]<=capacity[0] and (capacity[0]< demand[0]+demand[1]<=capacity[0]+capacity[1])):\n",
    "        #print('area 1')\n",
    "        return (5, 'a_1', demand[0], demand[0]+demand[1]-capacity[0], capacity[0]-demand[0])\n",
    "    elif ((capacity[1]<demand[1]<= capacity[0]+ capacity[1]) and (demand[0]+demand[1]>capacity[0]+capacity[1])):\n",
    "        #print('area 2')\n",
    "        return(5, 'a_2', capacity[0]+capacity[1]-demand[1], capacity[1], demand[1]-capacity[1])\n",
    "    elif (demand[1]> capacity[0]+capacity[1]):\n",
    "        #print('area 3')\n",
    "        return (5, 'a_3', 0, capacity[1], capacity[0])\n",
    "    else:\n",
    "        #print('area 4')\n",
    "        return (5, 'a_4', capacity[0], demand[1], 0)"
   ]
  },
  {
   "cell_type": "code",
   "execution_count": 12,
   "metadata": {},
   "outputs": [],
   "source": [
    "def TE(capacity:tuple, demand:tuple)->tuple:\n",
    "    if (demand[0]<=capacity[0] and demand[1]<= capacity[0] and demand[0]+demand[1]<= capacity[0]):\n",
    "        #print('area 0')\n",
    "        return (6, 'a_0', demand[0], 0, demand[1])\n",
    "    elif(demand[1]<=capacity[0] and demand[0]+demand[1]>capacity[0]):\n",
    "        #print('area 1')\n",
    "        return (6, 'a_1', capacity[0]-demand[1], 0, demand[1])\n",
    "    elif(capacity[0]<demand[1]<=capacity[0]+capacity[1]):\n",
    "        #print('area 2')\n",
    "        return (6, 'a_2', 0, demand[1]-capacity[0], capacity[0])\n",
    "    else:\n",
    "        #print('area 3')\n",
    "        return (6, 'a_3',0, capacity[1], capacity[0])"
   ]
  },
  {
   "cell_type": "code",
   "execution_count": 13,
   "metadata": {},
   "outputs": [],
   "source": [
    "def create_tuple():\n",
    "    # Import random module to generate random numbers\n",
    "    import random\n",
    "    \n",
    "    # Generate three random numbers between 0 and 100\n",
    "    num1 = random.randint(0, 100)\n",
    "    num2 = random.randint(0, 100)\n",
    "    num3 = random.randint(0, 100)\n",
    "    \n",
    "    # Ensure all three numbers are different\n",
    "    while num2 == num1:\n",
    "        num2 = random.randint(0, 100)\n",
    "    while num3 == num1 or num3 == num2:\n",
    "        num3 = random.randint(0, 100)\n",
    "    \n",
    "    # Create and return tuple of the three numbers\n",
    "    return (num1, num2, num3)"
   ]
  },
  {
   "cell_type": "code",
   "execution_count": 14,
   "metadata": {},
   "outputs": [],
   "source": [
    "def Benchmark_Orig(capacity:tuple, demand:tuple)->tuple:\n",
    "    if(demand[0]+demand[1]<=capacity[0]):\n",
    "        return(demand[0], 0, demand[1])\n",
    "    elif(demand[0]<=capacity[0] and (demand[0]+demand[1]>capacity[0])):\n",
    "        return (demand[0], 0, capacity[0]-demand[0])\n",
    "    else:\n",
    "        return (capacity[0],0, 0)"
   ]
  },
  {
   "cell_type": "code",
   "execution_count": 15,
   "metadata": {},
   "outputs": [],
   "source": [
    "def Benchmark(profit:tuple,capacity:tuple, demand:tuple)->tuple:\n",
    "    \"\"\" assumes that there is no capacity in overseas market [1]. All production capacity is in domestic market [0]\"\"\"\n",
    "    capacityL=list(capacity)\n",
    "    capacityL[0]=capacity[0]+ capacity[1]\n",
    "    capacityL[1]=0\n",
    "\n",
    "    capacity=tuple(capacityL)\n",
    "    plan=ProductionPlan(profit, capacity, demand)\n",
    "    return(plan[-3:])\n",
    "    "
   ]
  },
  {
   "cell_type": "code",
   "execution_count": 16,
   "metadata": {},
   "outputs": [],
   "source": [
    "def Experiment(capacities,g, b, LD1, UD1, LD2, UD2 , rep ,pt:tuple):\n",
    "    \n",
    "    zv1= sc.truncnorm.rvs((pt[2]-pt[0])/pt[1],(pt[3]-pt[0])/pt[1])\n",
    "    zv2= sc.truncnorm.rvs((pt[2]-pt[0])/pt[1],(pt[3]-pt[0])/pt[1])\n",
    "    zv3= sc.truncnorm.rvs((pt[2]-pt[0])/pt[1],(pt[3]-pt[0])/pt[1])\n",
    "\n",
    "    \n",
    "    v1= zv1*pt[1]+pt[0]\n",
    "    v2= zv2*pt[1]+pt[0]\n",
    "    v3= zv3*pt[1]+pt[0]\n",
    "    \n",
    "    profits = (v1, v2, v3)\n",
    "    relprof=(v2/v1,v3/v1) # relative profits of v0 and vT wrt vD.\n",
    "    demands= (sc.uniform.rvs(LD1,UD1), sc.uniform.rvs(LD2,UD2))\n",
    "    plan=ProductionPlan(profit=profits, capacity=capacities, demand=demands)\n",
    "    bmkplan=Benchmark(profit=profits,capacity=capacities, demand=demands)\n",
    "    Prof=np.array(plan[2:])*np.array(profits)\n",
    "    bmkprof=np.array(bmkplan)*np.array(profits)\n",
    "    yield (g,rep),relprof+capacities+plan+tuple(Prof)+tuple(bmkprof)\n",
    "     "
   ]
  },
  {
   "cell_type": "markdown",
   "metadata": {},
   "source": [
    "## 3. Experimental design - notation description\n",
    "\n",
    "### Factors:\n",
    "- production capacities K2 as a factor of KG\n",
    "- K2 = g KG, where g=0.1, 0.2, 0.3, 0.4, 0.5, 0.6 , 0.7, 0.8, 0.9, 1.0.\n",
    "- K1 = (KG-K2)\n",
    "- Vector of random profits per unit vector (vD, vO, vT)\n",
    "- let vi<= p, where p is the current UNICEF price per dose\n",
    "- let vi~ U[0.1 p, (1+b)p], where b~U(0,1)\n",
    "- explore b= 0, 0.1, 0.2, 0.3, 0.4, 0.5, 0.6, 0.7, 0.8, 0.9, 1.0\n",
    "\n",
    "### Simulation:\n",
    "- for each g level x for each b level\n",
    "randomly generate 10,000 profit vectors\n",
    "- number of experiments : |g-levels| x |b-levels| x 10,000 = 10x10x10,000 = 1,000,000 exp\n",
    "for each (K1, K2) and profit tuple:\n",
    "    - evaluate Production plan, Revenue from plan\n"
   ]
  },
  {
   "cell_type": "markdown",
   "metadata": {},
   "source": [
    "## Experimentation:"
   ]
  },
  {
   "cell_type": "markdown",
   "metadata": {},
   "source": [
    "main experimentation function:\n",
    "receives a dictionary with the following information for each vaccine:\n",
    "\n",
    "KG: expected capacity for current Gavi Market\n",
    "\n",
    "ED1: expected demand in non-AU Gavi Countries\n",
    "\n",
    "LD1: lower limit of demand in non-AU Gavi Countries\n",
    "\n",
    "UD1: upper limit of demand in non-AU Gavi Countries\n",
    "\n",
    "ED2: expected vaccine demand in AU Gavi Countries\n",
    "\n",
    "LD2: lower limit of demand in AU Gavi Countries\n",
    "\n",
    "UD2: upper limit of demand in AU Gavi Countries\n",
    "\n",
    "(p, pmin, pmax, sp) : tuple with avg vaccine price, lower limit of vaccine price per dose, upper limit of vaccine price per dose, standard deviation of price per dose\n",
    "\n",
    "results: {xD, xO, xT, vD, vO, vT, pfD, pfO, pfT, bpfD,bpfO, bpfT}\n",
    "\n",
    "(xD, xO, xT): fullfilment quantities in Domestic, Overseas, Transhipment - if supply is avaiable from nonAU and AU Gavi countries\n",
    "\n",
    "(pfD, pfO, pfT): profits in Domestic, Overseas, Transhipment - if supply is avaiable from nonAU and AU Gavi countries\n",
    "\n",
    "(bpfD, bpfO, bpfT): benchmark profits - if supply is avaiable only from nonAU Gavi countries\n"
   ]
  },
  {
   "cell_type": "markdown",
   "metadata": {},
   "source": [
    "### 4. Main Simulation function"
   ]
  },
  {
   "cell_type": "code",
   "execution_count": 17,
   "metadata": {},
   "outputs": [],
   "source": [
    "import numpy as np\n",
    "import scipy.stats as sc\n",
    "import pandas as pd"
   ]
  },
  {
   "cell_type": "code",
   "execution_count": 18,
   "metadata": {},
   "outputs": [],
   "source": [
    "def mainf(vac:dict):\n",
    "\n",
    "    maindf=pd.DataFrame()\n",
    "    \n",
    "    for i in vac:\n",
    "            \n",
    "        KG = vac[i]['KG']   # expected capacity for current Gavi market\n",
    "        ED1 = vac[i]['ED1'] # expected demand in non-AU Gavi countries\n",
    "        LD1 = vac[i]['LD1'] # lower limit of demand in non-AU Gavi countries\n",
    "        UD1 = vac[i]['UD1'] # upper limit of demand in non-AU Gavi countries\n",
    "        ED2 = vac[i]['ED2'] # expected demand in AU Gavi countries\n",
    "        LD2 = vac[i]['LD2'] # lower limit of demand in AU Gavi countries\n",
    "        UD2 = vac[i]['UD2'] # upper limit of demand in AU Gavi countries\n",
    "\n",
    "        b = 0.15\n",
    "        p = vac[i]['p'] # vaccine price\n",
    "        pmin= vac[i]['pmin'] # min price\n",
    "        pmax=vac[i]['pmax'] # max price\n",
    "        sp=vac[i]['sp'] # sqrt of average price variance\n",
    "        numtest = 10000\n",
    "    \n",
    "        results={}\n",
    "        for g in np.arange(0,1.2,0.2).round(1).tolist():\n",
    "            K2 = g*ED2\n",
    "            K1= KG-K2\n",
    "            capacities =(K1, K2)\n",
    "            experimentiter=(Experiment(capacities,g, b, LD1, UD1, LD2, UD2 , rep ,pt=( p, sp, pmin,pmax)) for rep in range(numtest))\n",
    "            for val in experimentiter:\n",
    "                results.update(val)\n",
    "        \n",
    "        df= pd.DataFrame.from_dict(results, orient='index').reset_index()   \n",
    "        df.columns=['g_rep', 'v2/v1','v3/v1','K1','K2','scenario', 'area', 'xD', 'xO', 'xT', 'pfD', 'pfO', 'pfT', 'bpfD','bpfO','bpfT' ]    \n",
    "        df['pDtot']=df['pfD']+df['pfT']\n",
    "        df['bpfDtot']=df['bpfD']+df['bpfT']\n",
    "        aa=df['g_rep'].apply(pd.Series)\n",
    "        aa.columns=['g','rep']\n",
    "        df['g']=aa['g']\n",
    "        df['rep']=aa['rep']\n",
    "        df['vac']=i\n",
    "        \n",
    "        maindf=pd.concat([maindf,df],  ignore_index=True)\n",
    "        #print(df)\n",
    "        print('done with vac', i)\n",
    "    first_column=maindf.pop('vac')\n",
    "    maindf.insert(0,'vac',first_column)\n",
    "    print (\"Finally done!\")  \n",
    "    return maindf"
   ]
  },
  {
   "cell_type": "markdown",
   "metadata": {},
   "source": [
    "## 5. Input data upload"
   ]
  },
  {
   "cell_type": "code",
   "execution_count": 19,
   "metadata": {
    "scrolled": true
   },
   "outputs": [],
   "source": [
    "HPV={'KG': 5806000, 'ED1':3135240, 'LD1':1620000, 'UD1':6496200, 'ED2':2670760,'LD2':1380000, \n",
    "     'UD2':5533800, 'p':4.5, 'pmin': 4.45, 'pmax': 4.55, 'sp':0.001}\n",
    "\n",
    "IPV={'KG': 65008000, 'ED1':24703040, 'LD1':19380000, 'UD1':34975200, 'ED2':40304960,'LD2':31620000, \n",
    "     'UD2':57064800, 'p':1.694, 'pmin': 0.83, 'pmax': 3.3, 'sp':0.9885}\n",
    "\n",
    "Measles={'KG': 149076000, 'ED1':0, 'LD1':0, 'UD1':0, 'ED2':149076000,'LD2':117000000, \n",
    "     'UD2':170000000, 'p':0.228, 'pmin': 0.193, 'pmax': 0.25, 'sp':0.016}\n",
    "\n",
    "MR={'KG': 150100000, 'ED1':37525000, 'LD1':28000000, 'UD1':49750000, 'ED2':112575000,'LD2':84000000, \n",
    "     'UD2':149250000, 'p':0.5956, 'pmin': 0.499, 'pmax': 0.721, 'sp':0.065}\n",
    "\n",
    "PCV={'KG': 151836000, 'ED1':59216040, 'LD1':52260000, 'UD1':64740000, 'ED2':92619960,'LD2':81740000, \n",
    "     'UD2':101260000, 'p':4.022, 'pmin': 2.9, 'pmax': 7.0, 'sp':1.342}\n",
    "\n",
    "Penta={'KG': 185588000, 'ED1':77946960, 'LD1':54600000, 'UD1':99120000, 'ED2':107641040,'LD2':75400000, \n",
    "     'UD2':136880000, 'p':0.9765, 'pmin': 0.65, 'pmax': 1.6, 'sp':0.329}\n",
    "\n",
    "Rota={'KG': 60580000, 'ED1':21203000, 'LD1':13650000, 'UD1':28350000, 'ED2':39377000,'LD2':25350000, \n",
    "     'UD2':52650000, 'p':1.89, 'pmin': 0.85, 'pmax': 2.35, 'sp':0.717}\n",
    "\n",
    "TT={'KG': 62256000, 'ED1':8093280, 'LD1':1596400, 'UD1':12090000, 'ED2':54162720,'LD2':10683600, \n",
    "     'UD2':80910000, 'p':0.051, 'pmin': 0.030, 'pmax': 0.066, 'sp':0.01}\n",
    "\n",
    "YF={'KG': 55350000, 'ED1':0, 'LD1':0, 'UD1':0, 'ED2':55350000,'LD2':36000000, \n",
    "     'UD2':78000000, 'p':0.816, 'pmin': 0.66, 'pmax': 0.97, 'sp':0.113}\n",
    "\n",
    "\n",
    "\n",
    "vac={ 'HPV':HPV, 'IPV':IPV, 'Measles':Measles, 'MR':MR, 'PCV':PCV, 'Penta':Penta, 'Rota':Rota, 'TT':TT, 'YF':YF}"
   ]
  },
  {
   "cell_type": "markdown",
   "metadata": {},
   "source": [
    "## 6. Simulation execution \n",
    "\n",
    "**aa** : object that collects simulation output\n",
    "\n",
    "#### Column headings of **aa**\n",
    "- vac: vaccine\n",
    "- g_rep: tuple for (g-value, replication)\n",
    "- v2/v1: ratio between the profit-per-dose of a vaccine made and sold in AU Gavi countries and the profit-per-dose of the same vaccine if made and sold in non-AU Gavi countries. \n",
    "- v3/v1: ratio between the profit-per-dose of a vaccine made in non-AU Gavi countries and sold in AU Gavi countries and the the profit-per-dose of the same vaccine if made and sold in non-AU Gavi countries. \n",
    "- K1: non-AU vaccine production capacity\n",
    "- K2: AU vaccine production capacity\n",
    "- scenario: Profit scenario based on the relationship of the profit per dose for procurement scenarios (v1, v2, v3)\n",
    "- area: profit scenario area based on the simulated vaccine profits and capacities\n",
    "- xD: optimal profit-driven fulfillement for vaccines made and sold in non-AU countries (procurement interaction NN)\n",
    "- xO: optimal profit-driven fulfillement for vaccines made and sold in AU countries (procurement interaction AA)\n",
    "- xT: optimal profit-driven fulfillement for vaccines made in non-AU countries and sold in AU (procurement interaction NA)\n",
    "- pfD:profit for procurement interaction NN (when there is AU production)\n",
    "- pfO: profit for procurement interaction AA (when there is AU producton)\n",
    "- pfT: profit for procurement interaction NA (when there is AU production)\n",
    "- bpfD: benchmark profit for procurement interaction NN (when there is no AU production)\n",
    "- bpfO: benchmark profit for procurement interaction AA (when there is no AU production)\n",
    "- bpfT: benchmark profit for procurement interaction NA (when there is no AU production)\n",
    "- pDtot: pfD + pfT\n",
    "- bpfDtot: bpfD + bpfT\n",
    "- g: proportion of the African vaccine demand that aims to be supplied with domestic production\n",
    "- rep: replication \n",
    "\n"
   ]
  },
  {
   "cell_type": "code",
   "execution_count": 20,
   "metadata": {},
   "outputs": [
    {
     "name": "stdout",
     "output_type": "stream",
     "text": [
      "done with vac HPV\n",
      "done with vac IPV\n",
      "done with vac Measles\n",
      "done with vac MR\n",
      "done with vac PCV\n",
      "done with vac Penta\n",
      "done with vac Rota\n",
      "done with vac TT\n",
      "done with vac YF\n",
      "Finally done!\n"
     ]
    }
   ],
   "source": [
    "aa=mainf(vac)"
   ]
  },
  {
   "cell_type": "markdown",
   "metadata": {},
   "source": [
    "## 7. Output collection"
   ]
  },
  {
   "cell_type": "code",
   "execution_count": 22,
   "metadata": {},
   "outputs": [],
   "source": [
    "compression_opts = dict(method='zip',archive_name='aa.csv')  \n",
    "\n",
    "aa.to_csv('aa.zip', index=False,compression=compression_opts)  "
   ]
  },
  {
   "cell_type": "markdown",
   "metadata": {},
   "source": [
    "## Illustrative plotting code"
   ]
  },
  {
   "cell_type": "code",
   "execution_count": 21,
   "metadata": {
    "scrolled": true
   },
   "outputs": [
    {
     "name": "stdout",
     "output_type": "stream",
     "text": [
      "------------ HPV -----------------\n",
      "------------ IPV -----------------\n",
      "------------ Measles -----------------\n",
      "------------ MR -----------------\n",
      "------------ PCV -----------------\n",
      "------------ Penta -----------------\n",
      "------------ Rota -----------------\n",
      "------------ TT -----------------\n",
      "------------ YF -----------------\n"
     ]
    },
    {
     "data": {
      "text/plain": [
       "<Figure size 432x288 with 0 Axes>"
      ]
     },
     "metadata": {},
     "output_type": "display_data"
    }
   ],
   "source": [
    "import matplotlib.pyplot as plt  \n",
    "myFig=plt.figure()\n",
    "\n",
    "for i in vac:\n",
    "    print(\"------------\",i,\"-----------------\")\n",
    "    aa[aa['vac']==i].boxplot(column=['pfD', 'bpfDtot'],by='scenario')\n",
    "    plt.suptitle(\"FiguresA/\"+i+\"_pD_bpDtot\")\n",
    "    plt.plot()\n",
    "    plt.savefig(\"FiguresA/\"+i+\"_pfD-bpfDtot.pdf\",format=\"pdf\")\n",
    "    plt.close(plt.gcf())\n",
    "        \n",
    "    aa[aa['vac']==i].boxplot(column=['pfO', 'bpfO'],by='scenario')\n",
    "    plt.suptitle(i+\"_pO_bpO\")\n",
    "    plt.plot()\n",
    "    plt.savefig(\"FiguresA/\"+i+\"_pfO-bpfO.pdf\",format=\"pdf\")\n",
    "    plt.close(plt.gcf())\n",
    "    \n",
    "\n",
    "    aa[aa['vac']==i].boxplot(column=['pfT', 'bpfT'],by='scenario')\n",
    "    plt.suptitle(i+\"_pT_bpT\")\n",
    "    plt.plot()\n",
    "    plt.savefig(\"FiguresA/\"+i+\"_pfT-bpfT.pdf\",format=\"pdf\")\n",
    "    plt.close(plt.gcf())\n"
   ]
  },
  {
   "cell_type": "code",
   "execution_count": null,
   "metadata": {},
   "outputs": [],
   "source": []
  }
 ],
 "metadata": {
  "kernelspec": {
   "display_name": "Python 3",
   "language": "python",
   "name": "python3"
  },
  "language_info": {
   "codemirror_mode": {
    "name": "ipython",
    "version": 3
   },
   "file_extension": ".py",
   "mimetype": "text/x-python",
   "name": "python",
   "nbconvert_exporter": "python",
   "pygments_lexer": "ipython3",
   "version": "3.7.6"
  }
 },
 "nbformat": 4,
 "nbformat_minor": 4
}
